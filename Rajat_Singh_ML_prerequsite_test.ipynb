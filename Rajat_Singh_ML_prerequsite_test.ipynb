{
 "cells": [
  {
   "cell_type": "markdown",
   "id": "57bb46ce",
   "metadata": {},
   "source": [
    "# ES335  Prerequsite test"
   ]
  },
  {
   "cell_type": "markdown",
   "id": "c1851bb3",
   "metadata": {},
   "source": [
    "## Rajat Singh "
   ]
  },
  {
   "cell_type": "markdown",
   "id": "7e06d3b2",
   "metadata": {},
   "source": [
    " ## Roll No - 222510066"
   ]
  },
  {
   "cell_type": "code",
   "execution_count": 1,
   "id": "1f8305a9",
   "metadata": {},
   "outputs": [],
   "source": [
    "# Question 1"
   ]
  },
  {
   "cell_type": "markdown",
   "id": "f829eedf",
   "metadata": {},
   "source": [
    "Let A be a (n,k) matrix and B be a (k,m) matrix. \n",
    "We need to perform **k x n x m** number of **multiplications** to perform the matrix multiplication A X B\n",
    "\n",
    "*Reason* - For each entry [i,j] of the resulting matrix C = AxB with dimension (n,m), we need to perform k multiplications between k elements of row i of A and k elements of column j of B. \n",
    "        Now there are nxm elements of the resulting matrix. Therefore, we need kxnxm multiplications.\n",
    "        \n",
    "We need to perform **(k-1) x n x m** number of **additions** to perform a matrix multiplication A X B.\n",
    "\n",
    "*Reason* - For each entry [i,j] of the resulting matrix C = AxB with dimension (n,m), we had to perform k number of multiplications and then we need to perform k-1 additions to add all the multiplications. \n",
    "        Now, there are nxm elements of the resulting matrix. Therefore, we need (k-1)xnxm additions."
   ]
  },
  {
   "cell_type": "code",
   "execution_count": 2,
   "id": "3cfbcb95",
   "metadata": {},
   "outputs": [],
   "source": [
    "# Question 2 \n",
    "# 1. Using lists of lists"
   ]
  },
  {
   "cell_type": "code",
   "execution_count": 3,
   "id": "b7b015dc",
   "metadata": {},
   "outputs": [],
   "source": [
    "from timeit import default_timer as timer"
   ]
  },
  {
   "cell_type": "code",
   "execution_count": 4,
   "id": "30fdbc9f",
   "metadata": {},
   "outputs": [
    {
     "name": "stdout",
     "output_type": "stream",
     "text": [
      " The resulting matrix is [[28, 34], [64, 79]]\n",
      " Time taken by the code -0.0002758999908110127\n"
     ]
    }
   ],
   "source": [
    "# Func to multiply matrices using lists of lists\n",
    "def matrixmulti(m1, m2):\n",
    "    if len(m1) != len(m2[0]):\n",
    "        return \"Matrix Not Compatible\"\n",
    "    \n",
    "    m = [[0 for i in range(len(m2[0]))]for j in range(len(m1))]\n",
    "    \n",
    "    for i in range(len(m1)):\n",
    "        for j in range(len(m2[0])):\n",
    "            sum = 0\n",
    "            for k in range(len(m1[0])):\n",
    "                sum += m1[i][k]*m2[k][j]\n",
    "            m[i][j] = sum\n",
    "    return m\n",
    "\n",
    "\n",
    "start = timer()\n",
    "print(f' The resulting matrix is {matrixmulti([[1,2,3],[4,5,6]], [[2,3],[4,5],[6,7]])}')\n",
    "end = timer()\n",
    "\n",
    "print(f' Time taken by the code {start - end}')"
   ]
  },
  {
   "cell_type": "code",
   "execution_count": 5,
   "id": "a3ab475d",
   "metadata": {},
   "outputs": [],
   "source": [
    "# 2. Using numpy"
   ]
  },
  {
   "cell_type": "code",
   "execution_count": 6,
   "id": "4a0fef52",
   "metadata": {},
   "outputs": [
    {
     "name": "stdout",
     "output_type": "stream",
     "text": [
      " The resulting matrix is [[28 34]\n",
      " [64 79]]\n",
      " Time taken by the code -0.0006418999982997775\n"
     ]
    }
   ],
   "source": [
    "import numpy as np\n",
    "\n",
    "#Matrix Multiplication using dot() numpy.\n",
    "def matrixmultiply(A,B):\n",
    "    #A = np.array(m1)\n",
    "    #B = np.array(m2)\n",
    "    \n",
    "    return A.dot(B)\n",
    "\n",
    "\n",
    "A = np.array([[1,2,3],[4,5,6]])\n",
    "B = np.array([[2,3],[4,5],[6,7]])\n",
    "start = timer()\n",
    "print(f' The resulting matrix is {matrixmultiply(A, B)}')\n",
    "end = timer()\n",
    "\n",
    "print(f' Time taken by the code {start - end}')"
   ]
  },
  {
   "cell_type": "code",
   "execution_count": 7,
   "id": "7260f9b3",
   "metadata": {},
   "outputs": [],
   "source": [
    "# Question 4"
   ]
  },
  {
   "cell_type": "markdown",
   "id": "a1169f3d",
   "metadata": {},
   "source": [
    "**Gradiant is given as -**\n",
    "$$\n",
    "\\nabla f = \\left( \\frac{\\partial f}{\\partial x}, \\frac{\\partial f}{\\partial y} \\right)\n",
    "$$\n",
    "\n",
    "**Partial derivative with respect to x:**\n",
    "   Treating y as a constant :-\n",
    "   $\\frac{\\partial f}{\\partial x} = 2xy + y^3\\cos(x)$\n",
    "\n",
    "**Partial derivative with respect to y:**\n",
    "   Treating x as a constant :-\n",
    "   $\\frac{\\partial f}{\\partial y} = x^2 + 3y^2\\sin(x)$\n",
    "\n",
    "**Therefore, the gradient is:**\n",
    "\n",
    "$$\n",
    "\\nabla f = (2xy + y^3\\cos(x), x^2 + 3y^2\\sin(x))\n",
    "$$\n"
   ]
  },
  {
   "cell_type": "code",
   "execution_count": 8,
   "id": "64e12765",
   "metadata": {},
   "outputs": [],
   "source": [
    "# Question 5"
   ]
  },
  {
   "cell_type": "code",
   "execution_count": 9,
   "id": "6d277c58",
   "metadata": {},
   "outputs": [
    {
     "name": "stdout",
     "output_type": "stream",
     "text": [
      "Analytical Gradient Function:  [ 0.7640352 28.55103  ]\n",
      "JAX Gradient Function:  0.7640352\n",
      "\n",
      "Analytical Gradient Function:  [-93.18701 -65.73467]\n",
      "JAX Gradient Function:  -93.18701\n",
      "\n",
      "Analytical Gradient Function:  [-3735.5044  2494.1357]\n",
      "JAX Gradient Function:  -3735.5044\n",
      "\n"
     ]
    }
   ],
   "source": [
    "import jax\n",
    "import jax.numpy as jp\n",
    "\n",
    "# function\n",
    "def f(x, y):\n",
    "  return (x**2)*y + (y**3)*jp.sin(x)\n",
    "\n",
    "# gradient from analytical solution\n",
    "def grad_func(x, y):\n",
    "  return jp.array([2*x*y + (y**3)*jp.cos(x), x**2 + 3*(y**2)*jp.sin(x)])\n",
    "\n",
    "# gradient evaluated using JAX\n",
    "def jax_grad(x, y):\n",
    "  return jax.grad(f)(x, y)\n",
    "\n",
    "# Output using different inputs\n",
    "input = jp.array([[2, 3], [4, 6], [40, 20]], dtype=jp.float32)\n",
    "for inp in input:\n",
    "  x, y = inp\n",
    "  print(\"Analytical Gradient Function: \", grad_func(x, y))\n",
    "  print(\"JAX Gradient Function: \", jax_grad(x, y))\n",
    "  print(\"\")"
   ]
  },
  {
   "cell_type": "code",
   "execution_count": 10,
   "id": "938321bb",
   "metadata": {},
   "outputs": [],
   "source": [
    "# Question 6"
   ]
  },
  {
   "cell_type": "code",
   "execution_count": 11,
   "id": "e593ff80",
   "metadata": {},
   "outputs": [
    {
     "name": "stdout",
     "output_type": "stream",
     "text": [
      "Gradient using sympy:\n",
      "Matrix([[2*x*y + y**3*cos(x)], [x**2 + 3*y**2*sin(x)]])\n"
     ]
    }
   ],
   "source": [
    "import sympy as sp\n",
    "\n",
    "x, y = sp.symbols('x y')\n",
    "f = (x**2)*y + (y**3)*sp.sin(x)\n",
    "\n",
    "grad_f = sp.Matrix([sp.diff(f, x), sp.diff(f, y)])\n",
    "\n",
    "print(\"Gradient using sympy:\")\n",
    "print(grad_f)\n"
   ]
  },
  {
   "cell_type": "code",
   "execution_count": 12,
   "id": "5ce498a0",
   "metadata": {},
   "outputs": [],
   "source": [
    "# Question 7"
   ]
  },
  {
   "cell_type": "code",
   "execution_count": 13,
   "id": "6efabf7d",
   "metadata": {},
   "outputs": [
    {
     "name": "stdout",
     "output_type": "stream",
     "text": [
      "{2023: {'Mathematics': {22510066: {'Name': 'Rajat', 'Marks': {'ES 112': 90, 'MA 629': 85}}}}, 2022: {'CS': {22510055: {'Name': 'Aaryan', 'Marks': {'ES 113': 75, 'MA 630': 90}}}}}\n"
     ]
    }
   ],
   "source": [
    "\n",
    "def add_student_record(student_data, year, branch, roll_number, name, marks):\n",
    "\n",
    "    # Checking if year exists\n",
    "    if year not in student_data:\n",
    "        student_data[year] = {}\n",
    "\n",
    "    # Checking if branch exists within the year\n",
    "    if branch not in student_data[year]:\n",
    "        student_data[year][branch] = {}\n",
    "\n",
    "    # Adding record to the existing branch dictionary\n",
    "    student_data[year][branch][roll_number] = {\n",
    "        \"Name\": name,\n",
    "        \"Marks\": marks,\n",
    "    }\n",
    "\n",
    "    \n",
    "student_data = {}\n",
    "add_student_record(student_data, 2023, \"Mathematics\", 22510066, \"Rajat\", {\"ES 112\": 90, \"MA 629\": 85})\n",
    "add_student_record(student_data, 2022, \"CS\", 22510055, \"Aaryan\", {\"ES 113\": 75, \"MA 630\": 90})\n",
    "\n",
    "print(student_data)\n",
    "\n"
   ]
  },
  {
   "cell_type": "code",
   "execution_count": 14,
   "id": "c55a9bb6",
   "metadata": {},
   "outputs": [],
   "source": [
    "# Question 8"
   ]
  },
  {
   "cell_type": "code",
   "execution_count": 15,
   "id": "3a447374",
   "metadata": {},
   "outputs": [],
   "source": [
    "# Question 9"
   ]
  },
  {
   "cell_type": "markdown",
   "id": "f58f0e22",
   "metadata": {},
   "source": [
    "$$1.y = x$$"
   ]
  },
  {
   "cell_type": "code",
   "execution_count": 16,
   "id": "ae27e778",
   "metadata": {
    "scrolled": false
   },
   "outputs": [
    {
     "data": {
      "image/png": "[encoded data removed]",
      "text/plain": [
       "<Figure size 640x480 with 1 Axes>"
      ]
     },
     "metadata": {},
     "output_type": "display_data"
    }
   ],
   "source": [
    "import matplotlib.pyplot as plt\n",
    "import numpy as np\n",
    "\n",
    "# Generating x values from 0.5 to 100.0 in steps of 0.5\n",
    "x = np.arange(0.5, 100.5, 0.5)\n",
    "\n",
    "# Calculate y values using y = x\n",
    "y = x\n",
    "\n",
    "plt.plot(x, y)\n",
    "\n",
    "plt.xlabel(\"x\")\n",
    "plt.ylabel(\"y\")\n",
    "plt.title(\"Plot of y = x\")\n",
    "\n",
    "# Show the plot\n",
    "plt.show()\n"
   ]
  },
  {
   "cell_type": "markdown",
   "id": "e27f8de8",
   "metadata": {},
   "source": [
    "$$2. y = x^2$$"
   ]
  },
  {
   "cell_type": "code",
   "execution_count": 17,
   "id": "ae2ae05d",
   "metadata": {},
   "outputs": [
    {
     "data": {
      "image/png": "[encoded data removed]",
      "text/plain": [
       "<Figure size 640x480 with 1 Axes>"
      ]
     },
     "metadata": {},
     "output_type": "display_data"
    }
   ],
   "source": [
    "y = x**2\n",
    "\n",
    "plt.plot(x, y)\n",
    "\n",
    "#labels and title\n",
    "plt.xlabel(\"x\")\n",
    "plt.ylabel(\"y\")\n",
    "plt.title(\"Plot of y = x**2\")\n",
    "\n",
    "plt.show()\n"
   ]
  },
  {
   "cell_type": "markdown",
   "id": "4e186f16",
   "metadata": {},
   "source": [
    "$$3. y = \\frac{x^3}{100}$$"
   ]
  },
  {
   "cell_type": "code",
   "execution_count": 18,
   "id": "8ca31548",
   "metadata": {},
   "outputs": [
    {
     "data": {
      "image/png": "[encoded data removed]",
      "text/plain": [
       "<Figure size 640x480 with 1 Axes>"
      ]
     },
     "metadata": {},
     "output_type": "display_data"
    }
   ],
   "source": [
    "y = (x**3)/100\n",
    "\n",
    "plt.plot(x, y)\n",
    "\n",
    "#labels and title\n",
    "plt.xlabel(\"x\")\n",
    "plt.ylabel(\"y\")\n",
    "plt.title(\"Plot of y = (x**3)/100\")\n",
    "\n",
    "plt.show()"
   ]
  },
  {
   "cell_type": "markdown",
   "id": "5db732e8",
   "metadata": {},
   "source": [
    "$$4. y = \\sin(x)$$"
   ]
  },
  {
   "cell_type": "code",
   "execution_count": 19,
   "id": "b7cdaf34",
   "metadata": {},
   "outputs": [
    {
     "data": {
      "image/png": "[encoded data removed]",
      "text/plain": [
       "<Figure size 640x480 with 1 Axes>"
      ]
     },
     "metadata": {},
     "output_type": "display_data"
    }
   ],
   "source": [
    "\n",
    "y = np.sin(x)\n",
    "\n",
    "plt.plot(x, y)\n",
    "\n",
    "#labels and title\n",
    "plt.xlabel(\"x\")\n",
    "plt.ylabel(\"y\")\n",
    "plt.title(\"Plot of y = sin(x)\")\n",
    "\n",
    "plt.show()"
   ]
  },
  {
   "cell_type": "markdown",
   "id": "45a567d5",
   "metadata": {},
   "source": [
    "$$5. y = \\frac{\\sin(x)}{x}$$"
   ]
  },
  {
   "cell_type": "code",
   "execution_count": 20,
   "id": "5c8d916e",
   "metadata": {},
   "outputs": [
    {
     "data": {
      "image/png": "[encoded data removed]",
      "text/plain": [
       "<Figure size 640x480 with 1 Axes>"
      ]
     },
     "metadata": {},
     "output_type": "display_data"
    }
   ],
   "source": [
    "\n",
    "y = np.sin(x)/x\n",
    "\n",
    "plt.plot(x, y)\n",
    "\n",
    "#labels and title\n",
    "plt.xlabel(\"x\")\n",
    "plt.ylabel(\"y\")\n",
    "plt.title(\"Plot of y = sin(x)/x\")\n",
    "\n",
    "plt.show()"
   ]
  },
  {
   "cell_type": "markdown",
   "id": "d5971798",
   "metadata": {},
   "source": [
    "$$6. y = \\log(x)$$"
   ]
  },
  {
   "cell_type": "code",
   "execution_count": 21,
   "id": "a2f2ca94",
   "metadata": {},
   "outputs": [
    {
     "data": {
      "image/png": "[encoded data removed]",
      "text/plain": [
       "<Figure size 640x480 with 1 Axes>"
      ]
     },
     "metadata": {},
     "output_type": "display_data"
    }
   ],
   "source": [
    "\n",
    "y = np.log(x)\n",
    "\n",
    "plt.plot(x, y)\n",
    "\n",
    "#labels and title\n",
    "plt.xlabel(\"x\")\n",
    "plt.ylabel(\"y\")\n",
    "plt.title(\"Plot of y = log(x)\")\n",
    "\n",
    "plt.show()"
   ]
  },
  {
   "cell_type": "markdown",
   "id": "95999ce1",
   "metadata": {},
   "source": [
    "$$7. y = \\exp(x)$$"
   ]
  },
  {
   "cell_type": "code",
   "execution_count": 22,
   "id": "0a084bbc",
   "metadata": {},
   "outputs": [
    {
     "data": {
      "image/png": "[encoded data removed]",
      "text/plain": [
       "<Figure size 640x480 with 1 Axes>"
      ]
     },
     "metadata": {},
     "output_type": "display_data"
    }
   ],
   "source": [
    "\n",
    "y = np.exp(x)\n",
    "\n",
    "plt.plot(x, y)\n",
    "\n",
    "#labels and title\n",
    "plt.xlabel(\"x\")\n",
    "plt.ylabel(\"y\")\n",
    "plt.title(\"Plot of y = exp(x)\")\n",
    "\n",
    "plt.show()"
   ]
  },
  {
   "cell_type": "code",
   "execution_count": 23,
   "id": "8fa350b2",
   "metadata": {},
   "outputs": [],
   "source": [
    "# Question 10"
   ]
  },
  {
   "cell_type": "code",
   "execution_count": 24,
   "id": "0fa98a0f",
   "metadata": {},
   "outputs": [
    {
     "name": "stdout",
     "output_type": "stream",
     "text": [
      "The column with highest standard deviation is:-  e\n",
      "Index of the row with the lowest meam is:-  5\n"
     ]
    }
   ],
   "source": [
    "import pandas as pd\n",
    "\n",
    "np.random.seed(50)\n",
    "\n",
    "# Using numpy generate a matrix of size 20X5 containing random numbers drawn uniformly from the range of 1 to 2.\n",
    "rand_matrix = np.random.uniform(1, 2, size=(20, 5))\n",
    "\n",
    "#Using Pandas create a dataframe out of this matrix. Name the columns of the dataframe as “a”, “b”, “c”, “d”, “e”. \n",
    "df = pd.DataFrame(rand_matrix, columns=['a', 'b', 'c', 'd', 'e'])\n",
    "\n",
    "#Find the column with the highest standard deviation.\n",
    "highest_sd_column = df.std().idxmax()\n",
    "print(f'The column with highest standard deviation is:-  {highest_sd_column}')\n",
    "\n",
    "#Find the row with the lowest mean.\n",
    "lowest_mean_row = df.mean(axis=1).idxmin()\n",
    "\n",
    "print(f'Index of the row with the lowest meam is:-  {lowest_mean_row}')"
   ]
  },
  {
   "cell_type": "code",
   "execution_count": 25,
   "id": "3671e597",
   "metadata": {},
   "outputs": [],
   "source": [
    "# Question 11"
   ]
  },
  {
   "cell_type": "code",
   "execution_count": 26,
   "id": "504d6b3b",
   "metadata": {},
   "outputs": [
    {
     "data": {
      "text/html": [
       "<div>\n",
       "<style scoped>\n",
       "    .dataframe tbody tr th:only-of-type {\n",
       "        vertical-align: middle;\n",
       "    }\n",
       "\n",
       "    .dataframe tbody tr th {\n",
       "        vertical-align: top;\n",
       "    }\n",
       "\n",
       "    .dataframe thead th {\n",
       "        text-align: right;\n",
       "    }\n",
       "</style>\n",
       "<table border=\"1\" class=\"dataframe\">\n",
       "  <thead>\n",
       "    <tr style=\"text-align: right;\">\n",
       "      <th></th>\n",
       "      <th>a</th>\n",
       "      <th>b</th>\n",
       "      <th>c</th>\n",
       "      <th>d</th>\n",
       "      <th>e</th>\n",
       "      <th>f</th>\n",
       "    </tr>\n",
       "  </thead>\n",
       "  <tbody>\n",
       "    <tr>\n",
       "      <th>0</th>\n",
       "      <td>1.494602</td>\n",
       "      <td>1.228083</td>\n",
       "      <td>1.255474</td>\n",
       "      <td>1.396330</td>\n",
       "      <td>1.377315</td>\n",
       "      <td>6.751804</td>\n",
       "    </tr>\n",
       "    <tr>\n",
       "      <th>1</th>\n",
       "      <td>1.996574</td>\n",
       "      <td>1.408197</td>\n",
       "      <td>1.771894</td>\n",
       "      <td>1.760537</td>\n",
       "      <td>1.310009</td>\n",
       "      <td>8.247211</td>\n",
       "    </tr>\n",
       "    <tr>\n",
       "      <th>2</th>\n",
       "      <td>1.346541</td>\n",
       "      <td>1.351765</td>\n",
       "      <td>1.145467</td>\n",
       "      <td>1.972665</td>\n",
       "      <td>1.909178</td>\n",
       "      <td>7.725616</td>\n",
       "    </tr>\n",
       "    <tr>\n",
       "      <th>3</th>\n",
       "      <td>1.559957</td>\n",
       "      <td>1.313591</td>\n",
       "      <td>1.888200</td>\n",
       "      <td>1.674573</td>\n",
       "      <td>1.391087</td>\n",
       "      <td>7.827408</td>\n",
       "    </tr>\n",
       "    <tr>\n",
       "      <th>4</th>\n",
       "      <td>1.507184</td>\n",
       "      <td>1.524104</td>\n",
       "      <td>1.928001</td>\n",
       "      <td>1.571373</td>\n",
       "      <td>1.668338</td>\n",
       "      <td>8.198999</td>\n",
       "    </tr>\n",
       "    <tr>\n",
       "      <th>5</th>\n",
       "      <td>1.052259</td>\n",
       "      <td>1.327057</td>\n",
       "      <td>1.056402</td>\n",
       "      <td>1.179828</td>\n",
       "      <td>1.925933</td>\n",
       "      <td>6.541479</td>\n",
       "    </tr>\n",
       "    <tr>\n",
       "      <th>6</th>\n",
       "      <td>1.938015</td>\n",
       "      <td>1.714093</td>\n",
       "      <td>1.732688</td>\n",
       "      <td>1.461748</td>\n",
       "      <td>1.931329</td>\n",
       "      <td>8.777872</td>\n",
       "    </tr>\n",
       "    <tr>\n",
       "      <th>7</th>\n",
       "      <td>1.406420</td>\n",
       "      <td>1.683206</td>\n",
       "      <td>1.649916</td>\n",
       "      <td>1.598765</td>\n",
       "      <td>1.222039</td>\n",
       "      <td>7.560346</td>\n",
       "    </tr>\n",
       "    <tr>\n",
       "      <th>8</th>\n",
       "      <td>1.682357</td>\n",
       "      <td>1.878056</td>\n",
       "      <td>1.796717</td>\n",
       "      <td>1.432002</td>\n",
       "      <td>1.917878</td>\n",
       "      <td>8.707011</td>\n",
       "    </tr>\n",
       "    <tr>\n",
       "      <th>9</th>\n",
       "      <td>1.781834</td>\n",
       "      <td>1.725750</td>\n",
       "      <td>1.124855</td>\n",
       "      <td>1.916308</td>\n",
       "      <td>1.387711</td>\n",
       "      <td>7.936458</td>\n",
       "    </tr>\n",
       "    <tr>\n",
       "      <th>10</th>\n",
       "      <td>1.294930</td>\n",
       "      <td>1.616731</td>\n",
       "      <td>1.467846</td>\n",
       "      <td>1.255339</td>\n",
       "      <td>1.838996</td>\n",
       "      <td>7.473842</td>\n",
       "    </tr>\n",
       "    <tr>\n",
       "      <th>11</th>\n",
       "      <td>1.178619</td>\n",
       "      <td>1.227114</td>\n",
       "      <td>1.659876</td>\n",
       "      <td>1.479116</td>\n",
       "      <td>1.073447</td>\n",
       "      <td>6.618173</td>\n",
       "    </tr>\n",
       "    <tr>\n",
       "      <th>12</th>\n",
       "      <td>1.138960</td>\n",
       "      <td>1.112307</td>\n",
       "      <td>1.477785</td>\n",
       "      <td>1.540296</td>\n",
       "      <td>1.958071</td>\n",
       "      <td>7.227419</td>\n",
       "    </tr>\n",
       "    <tr>\n",
       "      <th>13</th>\n",
       "      <td>1.583792</td>\n",
       "      <td>1.526664</td>\n",
       "      <td>1.922263</td>\n",
       "      <td>1.919257</td>\n",
       "      <td>1.252009</td>\n",
       "      <td>8.203985</td>\n",
       "    </tr>\n",
       "    <tr>\n",
       "      <th>14</th>\n",
       "      <td>1.682633</td>\n",
       "      <td>1.964276</td>\n",
       "      <td>1.226962</td>\n",
       "      <td>1.716017</td>\n",
       "      <td>1.797760</td>\n",
       "      <td>8.387648</td>\n",
       "    </tr>\n",
       "    <tr>\n",
       "      <th>15</th>\n",
       "      <td>1.936751</td>\n",
       "      <td>1.853722</td>\n",
       "      <td>1.421546</td>\n",
       "      <td>1.005440</td>\n",
       "      <td>1.034865</td>\n",
       "      <td>7.252325</td>\n",
       "    </tr>\n",
       "    <tr>\n",
       "      <th>16</th>\n",
       "      <td>1.013905</td>\n",
       "      <td>1.588910</td>\n",
       "      <td>1.382993</td>\n",
       "      <td>1.114819</td>\n",
       "      <td>1.864454</td>\n",
       "      <td>6.965081</td>\n",
       "    </tr>\n",
       "    <tr>\n",
       "      <th>17</th>\n",
       "      <td>1.821657</td>\n",
       "      <td>1.737492</td>\n",
       "      <td>1.840344</td>\n",
       "      <td>1.401529</td>\n",
       "      <td>1.748620</td>\n",
       "      <td>8.549642</td>\n",
       "    </tr>\n",
       "    <tr>\n",
       "      <th>18</th>\n",
       "      <td>1.559629</td>\n",
       "      <td>1.613238</td>\n",
       "      <td>1.298102</td>\n",
       "      <td>1.602379</td>\n",
       "      <td>1.425677</td>\n",
       "      <td>7.499025</td>\n",
       "    </tr>\n",
       "    <tr>\n",
       "      <th>19</th>\n",
       "      <td>1.538544</td>\n",
       "      <td>1.486730</td>\n",
       "      <td>1.499892</td>\n",
       "      <td>1.917459</td>\n",
       "      <td>1.262877</td>\n",
       "      <td>7.705502</td>\n",
       "    </tr>\n",
       "  </tbody>\n",
       "</table>\n",
       "</div>"
      ],
      "text/plain": [
       "           a         b         c         d         e         f\n",
       "0   1.494602  1.228083  1.255474  1.396330  1.377315  6.751804\n",
       "1   1.996574  1.408197  1.771894  1.760537  1.310009  8.247211\n",
       "2   1.346541  1.351765  1.145467  1.972665  1.909178  7.725616\n",
       "3   1.559957  1.313591  1.888200  1.674573  1.391087  7.827408\n",
       "4   1.507184  1.524104  1.928001  1.571373  1.668338  8.198999\n",
       "5   1.052259  1.327057  1.056402  1.179828  1.925933  6.541479\n",
       "6   1.938015  1.714093  1.732688  1.461748  1.931329  8.777872\n",
       "7   1.406420  1.683206  1.649916  1.598765  1.222039  7.560346\n",
       "8   1.682357  1.878056  1.796717  1.432002  1.917878  8.707011\n",
       "9   1.781834  1.725750  1.124855  1.916308  1.387711  7.936458\n",
       "10  1.294930  1.616731  1.467846  1.255339  1.838996  7.473842\n",
       "11  1.178619  1.227114  1.659876  1.479116  1.073447  6.618173\n",
       "12  1.138960  1.112307  1.477785  1.540296  1.958071  7.227419\n",
       "13  1.583792  1.526664  1.922263  1.919257  1.252009  8.203985\n",
       "14  1.682633  1.964276  1.226962  1.716017  1.797760  8.387648\n",
       "15  1.936751  1.853722  1.421546  1.005440  1.034865  7.252325\n",
       "16  1.013905  1.588910  1.382993  1.114819  1.864454  6.965081\n",
       "17  1.821657  1.737492  1.840344  1.401529  1.748620  8.549642\n",
       "18  1.559629  1.613238  1.298102  1.602379  1.425677  7.499025\n",
       "19  1.538544  1.486730  1.499892  1.917459  1.262877  7.705502"
      ]
     },
     "execution_count": 26,
     "metadata": {},
     "output_type": "execute_result"
    }
   ],
   "source": [
    "# Add a new column to the dataframe called “f” which is the sum of the columns “a”, “b”, “c”, “d”, “e”.\n",
    "\n",
    "df['f'] = df[['a', 'b', 'c', 'd', 'e']].sum(axis=1)\n",
    "df"
   ]
  },
  {
   "cell_type": "code",
   "execution_count": 27,
   "id": "0156d6b5",
   "metadata": {},
   "outputs": [
    {
     "data": {
      "text/html": [
       "<div>\n",
       "<style scoped>\n",
       "    .dataframe tbody tr th:only-of-type {\n",
       "        vertical-align: middle;\n",
       "    }\n",
       "\n",
       "    .dataframe tbody tr th {\n",
       "        vertical-align: top;\n",
       "    }\n",
       "\n",
       "    .dataframe thead th {\n",
       "        text-align: right;\n",
       "    }\n",
       "</style>\n",
       "<table border=\"1\" class=\"dataframe\">\n",
       "  <thead>\n",
       "    <tr style=\"text-align: right;\">\n",
       "      <th></th>\n",
       "      <th>a</th>\n",
       "      <th>b</th>\n",
       "      <th>c</th>\n",
       "      <th>d</th>\n",
       "      <th>e</th>\n",
       "      <th>f</th>\n",
       "      <th>g</th>\n",
       "    </tr>\n",
       "  </thead>\n",
       "  <tbody>\n",
       "    <tr>\n",
       "      <th>0</th>\n",
       "      <td>1.494602</td>\n",
       "      <td>1.228083</td>\n",
       "      <td>1.255474</td>\n",
       "      <td>1.396330</td>\n",
       "      <td>1.377315</td>\n",
       "      <td>6.751804</td>\n",
       "      <td>LT8</td>\n",
       "    </tr>\n",
       "    <tr>\n",
       "      <th>1</th>\n",
       "      <td>1.996574</td>\n",
       "      <td>1.408197</td>\n",
       "      <td>1.771894</td>\n",
       "      <td>1.760537</td>\n",
       "      <td>1.310009</td>\n",
       "      <td>8.247211</td>\n",
       "      <td>GT8</td>\n",
       "    </tr>\n",
       "    <tr>\n",
       "      <th>2</th>\n",
       "      <td>1.346541</td>\n",
       "      <td>1.351765</td>\n",
       "      <td>1.145467</td>\n",
       "      <td>1.972665</td>\n",
       "      <td>1.909178</td>\n",
       "      <td>7.725616</td>\n",
       "      <td>LT8</td>\n",
       "    </tr>\n",
       "    <tr>\n",
       "      <th>3</th>\n",
       "      <td>1.559957</td>\n",
       "      <td>1.313591</td>\n",
       "      <td>1.888200</td>\n",
       "      <td>1.674573</td>\n",
       "      <td>1.391087</td>\n",
       "      <td>7.827408</td>\n",
       "      <td>LT8</td>\n",
       "    </tr>\n",
       "    <tr>\n",
       "      <th>4</th>\n",
       "      <td>1.507184</td>\n",
       "      <td>1.524104</td>\n",
       "      <td>1.928001</td>\n",
       "      <td>1.571373</td>\n",
       "      <td>1.668338</td>\n",
       "      <td>8.198999</td>\n",
       "      <td>GT8</td>\n",
       "    </tr>\n",
       "    <tr>\n",
       "      <th>5</th>\n",
       "      <td>1.052259</td>\n",
       "      <td>1.327057</td>\n",
       "      <td>1.056402</td>\n",
       "      <td>1.179828</td>\n",
       "      <td>1.925933</td>\n",
       "      <td>6.541479</td>\n",
       "      <td>LT8</td>\n",
       "    </tr>\n",
       "    <tr>\n",
       "      <th>6</th>\n",
       "      <td>1.938015</td>\n",
       "      <td>1.714093</td>\n",
       "      <td>1.732688</td>\n",
       "      <td>1.461748</td>\n",
       "      <td>1.931329</td>\n",
       "      <td>8.777872</td>\n",
       "      <td>GT8</td>\n",
       "    </tr>\n",
       "    <tr>\n",
       "      <th>7</th>\n",
       "      <td>1.406420</td>\n",
       "      <td>1.683206</td>\n",
       "      <td>1.649916</td>\n",
       "      <td>1.598765</td>\n",
       "      <td>1.222039</td>\n",
       "      <td>7.560346</td>\n",
       "      <td>LT8</td>\n",
       "    </tr>\n",
       "    <tr>\n",
       "      <th>8</th>\n",
       "      <td>1.682357</td>\n",
       "      <td>1.878056</td>\n",
       "      <td>1.796717</td>\n",
       "      <td>1.432002</td>\n",
       "      <td>1.917878</td>\n",
       "      <td>8.707011</td>\n",
       "      <td>GT8</td>\n",
       "    </tr>\n",
       "    <tr>\n",
       "      <th>9</th>\n",
       "      <td>1.781834</td>\n",
       "      <td>1.725750</td>\n",
       "      <td>1.124855</td>\n",
       "      <td>1.916308</td>\n",
       "      <td>1.387711</td>\n",
       "      <td>7.936458</td>\n",
       "      <td>LT8</td>\n",
       "    </tr>\n",
       "    <tr>\n",
       "      <th>10</th>\n",
       "      <td>1.294930</td>\n",
       "      <td>1.616731</td>\n",
       "      <td>1.467846</td>\n",
       "      <td>1.255339</td>\n",
       "      <td>1.838996</td>\n",
       "      <td>7.473842</td>\n",
       "      <td>LT8</td>\n",
       "    </tr>\n",
       "    <tr>\n",
       "      <th>11</th>\n",
       "      <td>1.178619</td>\n",
       "      <td>1.227114</td>\n",
       "      <td>1.659876</td>\n",
       "      <td>1.479116</td>\n",
       "      <td>1.073447</td>\n",
       "      <td>6.618173</td>\n",
       "      <td>LT8</td>\n",
       "    </tr>\n",
       "    <tr>\n",
       "      <th>12</th>\n",
       "      <td>1.138960</td>\n",
       "      <td>1.112307</td>\n",
       "      <td>1.477785</td>\n",
       "      <td>1.540296</td>\n",
       "      <td>1.958071</td>\n",
       "      <td>7.227419</td>\n",
       "      <td>LT8</td>\n",
       "    </tr>\n",
       "    <tr>\n",
       "      <th>13</th>\n",
       "      <td>1.583792</td>\n",
       "      <td>1.526664</td>\n",
       "      <td>1.922263</td>\n",
       "      <td>1.919257</td>\n",
       "      <td>1.252009</td>\n",
       "      <td>8.203985</td>\n",
       "      <td>GT8</td>\n",
       "    </tr>\n",
       "    <tr>\n",
       "      <th>14</th>\n",
       "      <td>1.682633</td>\n",
       "      <td>1.964276</td>\n",
       "      <td>1.226962</td>\n",
       "      <td>1.716017</td>\n",
       "      <td>1.797760</td>\n",
       "      <td>8.387648</td>\n",
       "      <td>GT8</td>\n",
       "    </tr>\n",
       "    <tr>\n",
       "      <th>15</th>\n",
       "      <td>1.936751</td>\n",
       "      <td>1.853722</td>\n",
       "      <td>1.421546</td>\n",
       "      <td>1.005440</td>\n",
       "      <td>1.034865</td>\n",
       "      <td>7.252325</td>\n",
       "      <td>LT8</td>\n",
       "    </tr>\n",
       "    <tr>\n",
       "      <th>16</th>\n",
       "      <td>1.013905</td>\n",
       "      <td>1.588910</td>\n",
       "      <td>1.382993</td>\n",
       "      <td>1.114819</td>\n",
       "      <td>1.864454</td>\n",
       "      <td>6.965081</td>\n",
       "      <td>LT8</td>\n",
       "    </tr>\n",
       "    <tr>\n",
       "      <th>17</th>\n",
       "      <td>1.821657</td>\n",
       "      <td>1.737492</td>\n",
       "      <td>1.840344</td>\n",
       "      <td>1.401529</td>\n",
       "      <td>1.748620</td>\n",
       "      <td>8.549642</td>\n",
       "      <td>GT8</td>\n",
       "    </tr>\n",
       "    <tr>\n",
       "      <th>18</th>\n",
       "      <td>1.559629</td>\n",
       "      <td>1.613238</td>\n",
       "      <td>1.298102</td>\n",
       "      <td>1.602379</td>\n",
       "      <td>1.425677</td>\n",
       "      <td>7.499025</td>\n",
       "      <td>LT8</td>\n",
       "    </tr>\n",
       "    <tr>\n",
       "      <th>19</th>\n",
       "      <td>1.538544</td>\n",
       "      <td>1.486730</td>\n",
       "      <td>1.499892</td>\n",
       "      <td>1.917459</td>\n",
       "      <td>1.262877</td>\n",
       "      <td>7.705502</td>\n",
       "      <td>LT8</td>\n",
       "    </tr>\n",
       "  </tbody>\n",
       "</table>\n",
       "</div>"
      ],
      "text/plain": [
       "           a         b         c         d         e         f    g\n",
       "0   1.494602  1.228083  1.255474  1.396330  1.377315  6.751804  LT8\n",
       "1   1.996574  1.408197  1.771894  1.760537  1.310009  8.247211  GT8\n",
       "2   1.346541  1.351765  1.145467  1.972665  1.909178  7.725616  LT8\n",
       "3   1.559957  1.313591  1.888200  1.674573  1.391087  7.827408  LT8\n",
       "4   1.507184  1.524104  1.928001  1.571373  1.668338  8.198999  GT8\n",
       "5   1.052259  1.327057  1.056402  1.179828  1.925933  6.541479  LT8\n",
       "6   1.938015  1.714093  1.732688  1.461748  1.931329  8.777872  GT8\n",
       "7   1.406420  1.683206  1.649916  1.598765  1.222039  7.560346  LT8\n",
       "8   1.682357  1.878056  1.796717  1.432002  1.917878  8.707011  GT8\n",
       "9   1.781834  1.725750  1.124855  1.916308  1.387711  7.936458  LT8\n",
       "10  1.294930  1.616731  1.467846  1.255339  1.838996  7.473842  LT8\n",
       "11  1.178619  1.227114  1.659876  1.479116  1.073447  6.618173  LT8\n",
       "12  1.138960  1.112307  1.477785  1.540296  1.958071  7.227419  LT8\n",
       "13  1.583792  1.526664  1.922263  1.919257  1.252009  8.203985  GT8\n",
       "14  1.682633  1.964276  1.226962  1.716017  1.797760  8.387648  GT8\n",
       "15  1.936751  1.853722  1.421546  1.005440  1.034865  7.252325  LT8\n",
       "16  1.013905  1.588910  1.382993  1.114819  1.864454  6.965081  LT8\n",
       "17  1.821657  1.737492  1.840344  1.401529  1.748620  8.549642  GT8\n",
       "18  1.559629  1.613238  1.298102  1.602379  1.425677  7.499025  LT8\n",
       "19  1.538544  1.486730  1.499892  1.917459  1.262877  7.705502  LT8"
      ]
     },
     "execution_count": 27,
     "metadata": {},
     "output_type": "execute_result"
    }
   ],
   "source": [
    "#Create another column called “g”. The value in the column “g” should be “LT8” if the value in the column “f” is less than 8 and “GT8” otherwise.\n",
    "\n",
    "df['g'] = ['LT8' if val < 8 else 'GT8' for val in df['f']]\n",
    "df"
   ]
  },
  {
   "cell_type": "code",
   "execution_count": 28,
   "id": "ec4b3a08",
   "metadata": {},
   "outputs": [
    {
     "name": "stdout",
     "output_type": "stream",
     "text": [
      "Number of rows with value in the column \"g\" is \"LT8\" is  -  13\n"
     ]
    }
   ],
   "source": [
    "# Find the number of rows in the dataframe where the value in the column “g” is “LT8”.\n",
    "\n",
    "subset_df = df[df['g'] == \"LT8\"]\n",
    "\n",
    "print(f'Number of rows with value in the column \"g\" is \"LT8\" is  -  {len(subset_df)}')"
   ]
  },
  {
   "cell_type": "code",
   "execution_count": 29,
   "id": "ff398e38",
   "metadata": {},
   "outputs": [
    {
     "name": "stdout",
     "output_type": "stream",
     "text": [
      "The standard deviations are 0.4676436389220403 and 0.2419223402331715 of column \"f\" with value \"LT8\" and \"Gt8\" resp.\n"
     ]
    }
   ],
   "source": [
    "# Find the standard deviation of the column “f” for the rows where the value in the column “g” is “LT8” and “GT8” respectively.\n",
    "\n",
    "sd_LT8 = df[df['g'] == 'LT8']['f'].std()\n",
    "\n",
    "sd_GT8 = df[df['g'] == 'GT8']['f'].std()\n",
    "\n",
    "print(f'The standard deviations are {sd_LT8} and {sd_GT8} of column \"f\" with value \"LT8\" and \"Gt8\" resp.')"
   ]
  },
  {
   "cell_type": "code",
   "execution_count": 30,
   "id": "d09ec099",
   "metadata": {},
   "outputs": [],
   "source": [
    "# Question 12"
   ]
  },
  {
   "cell_type": "code",
   "execution_count": 35,
   "id": "0ba3947e",
   "metadata": {},
   "outputs": [
    {
     "name": "stdout",
     "output_type": "stream",
     "text": [
      " The output matrix is [[ 7  9 11]\n",
      " [10 12 14]\n",
      " [13 15 17]]\n"
     ]
    }
   ],
   "source": [
    "A = np.array([[1,2,3], [4,5,6], [7,8,9]])\n",
    "\n",
    "B = np.array([[6,7,8]])\n",
    "# Here the matrix B is expanded (broadcasted) smaller array to match dimensions as needed. So, \n",
    "# B is broadcasted to [[6,7,8], [6,7,8], [6,7,8]]\n",
    "print(f\" The output matrix is {A + B}\")"
   ]
  },
  {
   "cell_type": "code",
   "execution_count": 32,
   "id": "2fcfebf3",
   "metadata": {},
   "outputs": [],
   "source": [
    "# Question 13"
   ]
  },
  {
   "cell_type": "code",
   "execution_count": 33,
   "id": "4434ede9",
   "metadata": {},
   "outputs": [
    {
     "name": "stdout",
     "output_type": "stream",
     "text": [
      "[1. 0. 2.]\n"
     ]
    }
   ],
   "source": [
    "def my_argmin(arr):\n",
    "    min_index_arr = np.zeros(len(arr[0]))\n",
    "    for j in range(len(arr[0])):\n",
    "        min_index = 0\n",
    "        min_val = float(\"inf\")\n",
    "        for i in range(len(arr)):\n",
    "            if arr[i][j]<min_val:\n",
    "                min_index = i\n",
    "                min_val = arr[i][j]\n",
    "        min_index_arr[j] = min_index\n",
    "        \n",
    "    return min_index_arr\n",
    "\n",
    "array_example = np.array([[4, 2, 7], [1, 5, 3], [6, 8, 0]])\n",
    "\n",
    "print(my_argmin(array_example))"
   ]
  },
  {
   "cell_type": "code",
   "execution_count": 34,
   "id": "c759708a",
   "metadata": {},
   "outputs": [
    {
     "name": "stdout",
     "output_type": "stream",
     "text": [
      "[1 0 2]\n"
     ]
    }
   ],
   "source": [
    "arr2d = np.array([[4, 2, 7], [1, 5, 3], [6, 8, 0]])\n",
    "min_indices_axis0 = np.argmin(arr2d, axis = 0)\n",
    "print(min_indices_axis0)"
   ]
  },
  {
   "cell_type": "code",
   "execution_count": null,
   "id": "72294337",
   "metadata": {},
   "outputs": [],
   "source": []
  }
 ],
 "metadata": {
  "kernelspec": {
   "display_name": "Python 3 (ipykernel)",
   "language": "python",
   "name": "python3"
  },
  "language_info": {
   "codemirror_mode": {
    "name": "ipython",
    "version": 3
   },
   "file_extension": ".py",
   "mimetype": "text/x-python",
   "name": "python",
   "nbconvert_exporter": "python",
   "pygments_lexer": "ipython3",
   "version": "3.11.3"
  }
 },
 "nbformat": 4,
 "nbformat_minor": 5
}
